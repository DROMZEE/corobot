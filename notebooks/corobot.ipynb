{
 "cells": [
  {
   "cell_type": "markdown",
   "metadata": {},
   "source": [
    "# COROBOT - Chatbot infos corona"
   ]
  },
  {
   "cell_type": "markdown",
   "metadata": {
    "toc": true
   },
   "source": [
    "<h1>Table of Contents<span class=\"tocSkip\"></span></h1>\n",
    "<div class=\"toc\"><ul class=\"toc-item\"><li><span><a href=\"#imports\" data-toc-modified-id=\"imports-1\"><span class=\"toc-item-num\">1&nbsp;&nbsp;</span>imports</a></span><ul class=\"toc-item\"><li><span><a href=\"#lib\" data-toc-modified-id=\"lib-1.1\"><span class=\"toc-item-num\">1.1&nbsp;&nbsp;</span>lib</a></span></li><li><span><a href=\"#data\" data-toc-modified-id=\"data-1.2\"><span class=\"toc-item-num\">1.2&nbsp;&nbsp;</span>data</a></span></li></ul></li><li><span><a href=\"#Prétraitements\" data-toc-modified-id=\"Prétraitements-2\"><span class=\"toc-item-num\">2&nbsp;&nbsp;</span>Prétraitements</a></span><ul class=\"toc-item\"><li><span><a href=\"#tokenization\" data-toc-modified-id=\"tokenization-2.1\"><span class=\"toc-item-num\">2.1&nbsp;&nbsp;</span>tokenization</a></span></li></ul></li><li><span><a href=\"#matrice-TF-IDF\" data-toc-modified-id=\"matrice-TF-IDF-3\"><span class=\"toc-item-num\">3&nbsp;&nbsp;</span>matrice TF-IDF</a></span></li><li><span><a href=\"#Phrases-génériques\" data-toc-modified-id=\"Phrases-génériques-4\"><span class=\"toc-item-num\">4&nbsp;&nbsp;</span>Phrases génériques</a></span><ul class=\"toc-item\"><li><span><a href=\"#input\" data-toc-modified-id=\"input-4.1\"><span class=\"toc-item-num\">4.1&nbsp;&nbsp;</span>input</a></span></li><li><span><a href=\"#output\" data-toc-modified-id=\"output-4.2\"><span class=\"toc-item-num\">4.2&nbsp;&nbsp;</span>output</a></span></li></ul></li><li><span><a href=\"#Chatbot\" data-toc-modified-id=\"Chatbot-5\"><span class=\"toc-item-num\">5&nbsp;&nbsp;</span>Chatbot</a></span></li></ul></div>"
   ]
  },
  {
   "cell_type": "markdown",
   "metadata": {},
   "source": [
    "## imports"
   ]
  },
  {
   "cell_type": "markdown",
   "metadata": {},
   "source": [
    "### lib"
   ]
  },
  {
   "cell_type": "code",
   "execution_count": 3,
   "metadata": {},
   "outputs": [],
   "source": [
    "import nltk\n",
    "import numpy as np\n",
    "import random\n",
    "import string # to process standard python strings\n",
    "import re\n",
    "from stop_words import get_stop_words\n",
    "from sklearn.feature_extraction.text import TfidfVectorizer\n"
   ]
  },
  {
   "cell_type": "markdown",
   "metadata": {},
   "source": [
    "### data"
   ]
  },
  {
   "cell_type": "code",
   "execution_count": 15,
   "metadata": {},
   "outputs": [],
   "source": [
    "f=open('../data/infos_corona.txt','r',errors = 'ignore', encoding = \"utf8\")\n",
    "raw=f.read()"
   ]
  },
  {
   "cell_type": "code",
   "execution_count": 16,
   "metadata": {},
   "outputs": [
    {
     "data": {
      "text/plain": [
       "str"
      ]
     },
     "execution_count": 16,
     "metadata": {},
     "output_type": "execute_result"
    }
   ],
   "source": [
    "type(raw)"
   ]
  },
  {
   "cell_type": "raw",
   "metadata": {},
   "source": [
    "#raw"
   ]
  },
  {
   "cell_type": "markdown",
   "metadata": {},
   "source": [
    "## Prétraitements"
   ]
  },
  {
   "cell_type": "code",
   "execution_count": 17,
   "metadata": {},
   "outputs": [],
   "source": [
    "raw=raw.lower()# converts to lowercase\n",
    "raw = re.sub(r\"\\ufeff\", \"\", raw)\n",
    "raw = re.sub(r\"\\[.{1,2}\\]\", \"\", raw)\n",
    "raw = re.sub(r\"n.c.a.\", \"\", raw)\n",
    "raw = re.sub(r\"covid.*\", \"coronavirus\", raw)\n",
    "raw = re.sub(r\"\\n\", \" \", raw)"
   ]
  },
  {
   "cell_type": "code",
   "execution_count": 18,
   "metadata": {},
   "outputs": [
    {
     "name": "stdout",
     "output_type": "stream",
     "text": [
      "depuis janvier 2020, une épidémie de coronavirus coronavirus  face à l’épidémie , il existe des gestes simples pour préserver votre santé et celle de votre entourage :  se laver les mains très régulièrement tousser ou éternuer dans son coude ou dans un mouchoir  saluer sans se serrer la main, arrêter les embrassades utiliser des mouchoirs à usage unique et les jeter eviter les rassemblements, limiter les déplacements et les contacts. qu’est-ce que le coronavirus coronavirus les coronavirus sont une grande famille de virus, qui provoquent des maladies allant d’un simple rhume (certains virus saisonniers sont des coronavirus) à des pathologies plus sévères comme le mers-cov ou le sras.  le virus identifié en janvier 2020 en chine est un nouveau coronavirus, nommé sars-cov-2. la maladie provoquée par ce coronavirus a été nommée coronavirus  quels sont les symptômes du coronavirus coronavirus les symptômes principaux sont la fièvre ou la sensation de fièvre et la toux.  la perte brutale de\n"
     ]
    }
   ],
   "source": [
    "print(raw[0:1000])"
   ]
  },
  {
   "cell_type": "markdown",
   "metadata": {},
   "source": [
    "### tokenization"
   ]
  },
  {
   "cell_type": "markdown",
   "metadata": {},
   "source": [
    "Création d'une liste de phrases"
   ]
  },
  {
   "cell_type": "code",
   "execution_count": 20,
   "metadata": {},
   "outputs": [],
   "source": [
    "sent_tokens = nltk.sent_tokenize(raw)\n",
    "i = 1\n",
    "for n in range(len(sent_tokens)):\n",
    "    a = len(sent_tokens)- i\n",
    "    if (re.search(\"\\?\", sent_tokens[a])):\n",
    "        del sent_tokens[a]\n",
    "    i += 1"
   ]
  },
  {
   "cell_type": "code",
   "execution_count": 21,
   "metadata": {},
   "outputs": [
    {
     "data": {
      "text/plain": [
       "['depuis janvier 2020, une épidémie de coronavirus coronavirus  face à l’épidémie , il existe des gestes simples pour préserver votre santé et celle de votre entourage :  se laver les mains très régulièrement tousser ou éternuer dans son coude ou dans un mouchoir  saluer sans se serrer la main, arrêter les embrassades utiliser des mouchoirs à usage unique et les jeter eviter les rassemblements, limiter les déplacements et les contacts.',\n",
       " 'qu’est-ce que le coronavirus coronavirus les coronavirus sont une grande famille de virus, qui provoquent des maladies allant d’un simple rhume (certains virus saisonniers sont des coronavirus) à des pathologies plus sévères comme le mers-cov ou le sras.',\n",
       " 'le virus identifié en janvier 2020 en chine est un nouveau coronavirus, nommé sars-cov-2.',\n",
       " 'la maladie provoquée par ce coronavirus a été nommée coronavirus  quels sont les symptômes du coronavirus coronavirus les symptômes principaux sont la fièvre ou la sensation de fièvre et la toux.',\n",
       " 'la perte brutale de l’odorat, sans obstruction nasale et disparition totale du goût sont également des symptômes qui ont été observés chez les malades.',\n",
       " \"il n’existe pas de vaccin contre le coronavirus coronavirus  la prise d'anti-inflammatoires (ibuprofène ...) pourrait être un facteur d'aggravation de l'infection.\",\n",
       " 'de manière générale, l’auto-médication par anti-inflammatoires doit être proscrite.',\n",
       " \"de plus, il semblerait que les anti-inflammatoires non  stéroïdiens pourraient être un facteur d’aggravation de l'infection.\",\n",
       " 'ainsi, dans le cas d’une infection au coronavirus coronavirus  comment se transmet le coronavirus coronavirus la maladie se transmet par les gouttelettes (sécrétions projetées invisibles lors d’éternuements ou de toux).',\n",
       " 'on considère donc qu’un contact étroit avec une personne malade est nécessaire pour transmettre la maladie : même lieu de vie, contact direct à moins d’un mètre lors d’une toux, d’un éternuement ou une discussion en l’absence de mesures de protection.',\n",
       " 'un des autres vecteurs privilégiés de la transmission du virus est le contact des mains non lavées.',\n",
       " 'c’est donc pourquoi les gestes barrières et les mesures de distanciation sociale sont indispensables pour se protéger de la maladie.',\n",
       " 'le délai d’incubation est la période entre la contamination et l’apparition des premiers symptômes.',\n",
       " 'le délai d’incubation du coronavirus coronavirus  d’où vient le coronavirus coronavirus les premières personnes à avoir contracté le virus s’étaient rendues au marché de wuhan dans la province de hubei en chine.',\n",
       " 'la maladie semblerait venir d’un animal (zoonose) mais l’origine n’a pas été confirmée.',\n",
       " 'ce jour il n’existe pas d’arguments scientifiques suffisamment robustes en cette faveur.',\n",
       " 'les travaux de recherche se poursuivent aujourd’hui pour mieux connaître le virus.',\n",
       " 'il convient de rappeler que la grande majorité des mutations des virus sont neutres, et plus souvent bénéfiques pour l’homme que l’inverse.',\n",
       " 'en effet, dans la majorité des épidémies, les virus évoluent vers moins de dangerosité mais plus de diffusion.',\n",
       " \"non, le virus ne peut pas vivre dans l'air tout seul.\",\n",
       " 'le coronavirus responsable du coronavirus  le virus ne circule pas dans l’air tout seul mais peut atteindre une personne à proximité (située à moins d’un mètre) ou se fixer sur une surface souillée par les gouttelettes, comme les mains ou les mouchoirs.',\n",
       " 'c’est pour cela qu’il est important de respecter les gestes barrières et les mesures de distanciation sociale.',\n",
       " 'combien de temps le coronavirus dans des conditions propices à sa survie, le virus pourrait survivre, sous forme de traces, plusieurs jours sur une surface.',\n",
       " 'toutefois, ce n’est pas parce qu’un peu de virus survit que cela est suffisant pour contaminer une personne qui toucherait cette surface.',\n",
       " 'en effet, au bout de quelques heures, la grande majorité du virus meurt et n’est probablement plus contagieux.',\n",
       " 'non il n’existe aucune preuve de transmission du virus à travers les moustiques, ou tout autre animal d’ailleurs.',\n",
       " 'a ce jour, il n’a pas été rapporté de contamination par l’eau.',\n",
       " 'cette maladie est à transmission interhumaine par la voie des gouttelettes (toux, éternuements).',\n",
       " 'la source du virus n’est pas encore identifiée mais elle semble être d’origine animale.',\n",
       " \"il n'existe aucune preuve que les animaux domestiques jouent un rôle dans la propagation du coronavirus coronavirus  existe-t-il des risques liés aux aliments ?\",\n",
       " 'les femmes enceintes sont de manière générale des sujets fragiles et qui nécessitent une grande attention.',\n",
       " 'les premières informations sur l’impact du coronavirus chez les femmes enceintes et le fœtus sont cependant rassurantes.',\n",
       " 'toutefois, par précaution, le haut conseil de santé publique a classé les femmes enceintes  à partir du 3ème trimestre comme personnes à risque.',\n",
       " 'les mesures annoncées par le président de la république ont pour objectif freiner la progression de l’épidémie.',\n",
       " 'dès lors, la vitesse de propagation du virus se ralentit et permet de limiter le nombre de personnes atteintes en même temps par le virus.',\n",
       " 'dans cette stratégie, le type de personnes atteintes par le virus, et la répartition des cas simples, notamment en fonction de l’âge ou de l’existence de plusieurs maladies n’est pas modifié.',\n",
       " 'les études internationales nous montrent que si les personnes fragiles sont les plus à risque de développer une forme grave d’infection au coronavirus, l’ensemble de la population peut également être concernée.',\n",
       " 'la notion de seconde vague évoquée par le président de la république se fonde sur les observations scientifiques montrant que les sujets jeunes, au début de leur contamination, présentent des symptômes peu graves, mais qu’après environ une semaine d’évolution, certains présentent des atteintes plus sévères, nécessitant de possibles hospitalisations.',\n",
       " 'les résultats restent trop préliminaires pour recommander la chloroquine comme traitement du coronavirus.',\n",
       " 'la piste reste ouverte mais d’autres études sont nécessaires à ce jour.',\n",
       " 'la chloroquine n’est pas un médicament anodin, et n’est pas recommandée à ce jour par les autorités de santé.',\n",
       " 'plusieurs essais cliniques, sur la chloroquine et d’autres molécules sont en cours.',\n",
       " 'les autorités de santé sont en attente des résultats pour recommander un traitement évalué cliniquement, efficace et sûr pour le patient.',\n",
       " 'pour les patients atteints à domicile, il ne faut pas s’auto-médiquer, ou alors uniquement avec du paracétamol, dans la limite de 1g par prise (toutes les 6h) et 3g/jour max (60 mg/kg pour les enfants).',\n",
       " 'le président de la république a fait un point avec des médecins, des scientifiques, des responsables de laboratoires mobilisés pour la recherche contre le coronavirus et les responsables du consortium reacting, coordonné par l’inserm et placé sous l’égide d’aviesan, l’alliance de recherche en sciences du vivant et santé, et mandaté par le gouvernement pour coordonner l’effort de recherche.',\n",
       " 'le monde de la recherche est totalement mobilisé.',\n",
       " 'afin de soutenir l’effort de recherche, le ministère des solidarités et de la santé et le ministère de l’enseignement supérieur, de la recherche et de l’innovation ont annoncé le 5 mars 2020 débloquer 5.5 millions d’euros supplémentaires dédiés au soutien et à la coordination de la réponse scientifique à la propagation du virus, portant l’effort global à 8 millions d’euros.',\n",
       " 'de nombreux programmes français et européens et des essais cliniques, sont en cours afin d’améliorer le diagnostic, la compréhension et la prise ege de cette maladie.',\n",
       " 'par ailleurs, des équipes travaillent sur plusieurs pistes de traitement à paris, marseille ou encore lyon ; les protocoles ont commencé.',\n",
       " \"des équipes sont également à pied d'œuvre pour inventer un vaccin, qui pourrait voir le jour dans les prochains mois.\",\n",
       " 'par ailleurs, le président de la république a annoncé le 19 mars la mise en place d’un fonds d’urgence de 50 millions d’euros pour lutter contre l’épidémie ainsi que le réinvestissement de 5 milliards d’euros supplémentaires dans la recherche sur les dix prochaines années.',\n",
       " 'les tests ne servent pas à mesurer, mais à contenir l’épidémie.',\n",
       " 'en phase épidémique, le principe est de ne plus tester systématiquement.',\n",
       " 'il n’y pas de droit à être dépisté, et pas d’avantage particulier à le faire pour la population générale.',\n",
       " 'comme le font la plupart des pays et comme le recommande la commission européenne, les tests sont donc actuellement réservés à des publics prioritaires qui sont :   les professionnels de santé symptomatiques,  les personnes âgées symptomatiques,  les personnes présentant des difficultés respiratoires sévères ou des comorbidités,  les personnes hospitalisées, les nouveaux foyers et nouveaux territoires.',\n",
       " '4 000 tests sont effectués chaque jour sur ces personnes.',\n",
       " 'au total, 60 000 tests ont été effectués en france depuis le début de l’épidémie et 120 laboratoires sont maintenant en capacité de réaliser des tests.',\n",
       " 'devant l’augmentation actuelle du nombre de cas, la recherche systématique de contacts est devenue inutile.',\n",
       " 'tester tous les patients présentant des symptômes conduirait à saturer la filière de dépistage alors que pour les cas graves et les structures collectives de personnes fragiles, le dépistage permet toujours de prendre des mesures immédiates (par exemple pour prévenir la diffusion du virus au sein d’un hôpital lorsqu’un patient est hospitalisé).',\n",
       " 'le décompte des cas ne se fonde plus uniquement sur les cas diagnostiqués biologiquement, mais sur des estimations épidémiologiques, comme cela se fait pour la grippe tous les ans (nombre de consultations, nombre de cas graves ou de décès…).',\n",
       " 'ces modifications reflètent donc une volonté d’adapter la réponse en fonction de l’évolution de la propagation du coronavirus dans les différents territoires.',\n",
       " 'pour les populations concernées (cf question précédente), il y a plusieurs possibilités de tests :  pour les patients diagnostiqués à l’hôpital ou avec signes de gravité, ces tests seront réalisés dans les hôpitaux.',\n",
       " 'pour les autres patients répondants aux critères de dépistage, il est possible d’être testé dans les laboratoires en ville, après contact du médecin traitant et prescription médicale.',\n",
       " 'les prélèvements seront réalisés à domicile.',\n",
       " 'il ne faut en aucun cas se rendre directement dans les laboratoires de biologie, mais les appeler au préalable, et seulement si on a une prescription médicale, car il existe un grand risque de contaminer d’autres malades, notamment les plus fragiles.',\n",
       " 'concernant les patients non testés,ils seront diagnostiqués coronavirus le 23 mars à 08h00 le ministre des solidarités et de la santé, tient un point presse quotidien pour vous informer sur l’évolution de la situation en france.',\n",
       " 'les informations du jour :  le virus est présent sur le territoire national, avec notamment plusieurs zones de regroupement de cas (clusters).',\n",
       " 'nous sommes actuellement au stade 3 du plan d’actions du gouvernement qui a pour objectif de prévenir et limiter la circulation du virus.',\n",
       " \"depuis le 24 janvier 2020, la france compte 16 018 cas confirmés de coronavirus coronavirus 674 personnes sont décédées depuis le début de l'épidémie.\",\n",
       " 'retrouvez le point épidémiologique quotidien sur santé publique france.',\n",
       " \"un hôpital de référence a été désigné dans chacun des départements et régions d'outre-mer.\",\n",
       " \"la prise ege par les autorités sanitaires de cette maladie est identique sur l’ensemble du territoire national, dans les territoires d'outre-mer comme dans l'hexagone.\",\n",
       " \"en polynésie française et en nouvelle-calédonie, où les gouvernements sont compétents en matière de santé publique comme de gestion de crise, l'état réaffirme son soutien plein et entier aux collectivités pour les accompagner dans la lutte contre ce virus.\",\n",
       " 'le ministère des solidarités et de la santé actualise ses recommandations régulièrement pour protéger votre santé et vous recommander les bons gestes à adopter face au coronavirus coronavirus  face aux infections, il existe des gestes simples pour préserver votre santé et celle de votre entourage :  se laver les mains très régulièrement tousser ou éternuer dans son coude ou dans un mouchoir saluer sans se serrer la main, arrêter les embrassades utiliser des mouchoirs à usage unique et les jeter eviter les rassemblements, limiter les déplacements et les contacts j’ai des symptômes (toux, fièvre) qui me font penser au coronavirus  si les symptômes s’aggravent avec des difficultés respiratoires et signes d’étouffement, j’appelle le samu- centre 15.  qui est considéré comme une personne « à risque » ?',\n",
       " 'si je n’ai pas de symptômes j’applique les gestes barrières (je me lave les mains très régulièrement, je tousse et j’éternue dans mon coude, j’utilise des mouchoirs à usage unique, je salue sans serrer la main et j’évite les embrassades je réduis mes sorties au strict nécessaire : travail (si télétravail impossible), courses et visites médicales indispensables.',\n",
       " 'si je n’ai pas de symptômes mais que j’ai eu un contact étroit ou que je vis avec une personne malade du coronavirus  si je suis un professionnel de santé ne présentant pas de symptômes mais que j’ai eu un contact avec une personne malade du coronavirus  si j’ai des symptômes évocateurs de coronavirus  si je suis testé positif ou si je suis diagnostiqué cliniquement : je reste strictement à domicile, si j’ai un rendez-vous médical indispensable je porte un masque pour m’y rendre.',\n",
       " 'en cas de difficulté respiratoire, j’appelle le 15. je me fais prescrire un arrêt de travail par mon médecin.',\n",
       " 'selon ma situation, je m’auto-surveille, ou mon médecin met en place un protocole de surveillance.',\n",
       " 'mon isolement sera levé 48h après la résolution complète des symptômes.',\n",
       " \"si je suis testé négatif, je continue d'appliquer les gestes barrières (je me lave les mains très régulièrement, je tousse et j’éternue dans mon coude, j’utilise des mouchoirs à usage unique, je salue sans serrer la main et j’arrête les embrassades) et je limite mes déplacements au strict nécessaire.\",\n",
       " 'le port du masque chirurgical n’est pas recommandé sans présence de symptômes.',\n",
       " 'le masque n’est pas la bonne réponse pour le grand public car il ne peut être porté en permanence et surtout n’a pas d’indication sans contact rapproché et prolongé avec un malade.',\n",
       " 'ce sont les gestes barrières et la distanciation sociale qui sont efficaces.',\n",
       " 'non.',\n",
       " 'les gants peuvent également servir de support au virus après souillage par des gouttelettes (les sécrétions respiratoires qu’on émet quand on tousse, éternue, ou discute), qui sont le moyen de transmission du coronavirus.',\n",
       " 'porter des gants est donc inutile, sauf dans des situations très spécifiques (personnels soignants réalisant des prélèvements ou gestes à risque).',\n",
       " 'ce sont les gestes barrières (se laver fréquemment les mains, tousser dans son coude, utiliser des mouchoirs à usage unique et les jeter après utilisation) et les mesures de distanciation sociale qui sont efficaces.',\n",
       " 'oui.',\n",
       " 'le 16 mars 2020, le président de la république a décidé de prendre des mesures pour réduire à leur plus strict minimum les contacts et déplacements sur l’ensemble du territoire à compter du mardi 17 mars à 12h00, pour quinze jours minimum.',\n",
       " 'les déplacements sont interdits sauf dans les cas suivants et sur attestation uniquement pour :   se déplacer de son domicile à son lieu de travail dès lors que le télétravail n’est pas possible ; faire ses achats de première nécessité dans les commerces de proximité autorisés ; se rendre auprès d’un professionnel de santé ; se déplacer pour la garde de ses enfants ou aider les personnes vulnérables à la stricte condition de respecter les gestes barrières ; faire de l’exercice physique uniquement à titre individuel, autour du domicile et sans aucun rassemblement.',\n",
       " 'les infractions à ces règles seront sanctionnées d’une amende de 135 euros.',\n",
       " 'le 16 mars 2020, le président de la république a décidé de prendre des mesures pour réduire à leur plus strict minimum les contacts et déplacements sur l’ensemble du territoire à compter du mardi 17 mars à 12h00, pour quinze jours minimum.',\n",
       " 'les déplacements sont interdits sauf dans les cas suivants et sur attestation uniquement pour :  se déplacer de son domicile à son lieu de travail dès lors que le télétravail n’est pas possible ; faire ses achats de première nécessité dans les commerces de proximité autorisés ; se rendre auprès d’un professionnel de santé ; se déplacer pour la garde de ses enfants ou aider les personnes vulnérables à la stricte condition de respecter les gestes barrières ; faire de l’exercice physique uniquement à titre individuel, autour du domicile et sans aucun rassemblement.',\n",
       " 'le secrétariat d’etat au numérique a recensé l’ensemble des offres gratuites des plateformes numériques susceptibles de vous accompagner pendant cette période de confinement : télétravail, connectivité, apprentissage, livraison, téléconsultation, accès à l’information et au divertissement.',\n",
       " '100 000 policiers et gendarmes sont chargés de s’assurer que chaque personne soit en possession de son attestation pour quitter son domicile, sur l’intégralité du territoire national avec des points de contrôle fixes et mobiles en particulier dans les gares et les aéroports.',\n",
       " 'si vous ne respectez pas cette obligation, vous vous exposez à une amende de 135 euros.',\n",
       " 'depuis le début du confinement, 1 738 907 contrôles ont été effectués par les forces de l’ordre.',\n",
       " '91 824 infractions ont été constatées.',\n",
       " 'des reconduites à domicile auront-elles lieu ?',\n",
       " 'il sera infligé une contravention et on demandera aux personnes de retourner chez elles mais il n’y aura pas de reconduite à domicile.',\n",
       " 'les forces de l’ordre exercent des missions de contrôle fixe et dynamique sur l’ensemble du territoire.',\n",
       " 'les documents présentés par les personnes en déplacement pourront donner lieu à des contrôles plus approfondis au besoin.',\n",
       " 'lors d’un contrôle par les forces de l’ordre vous devez indiquer votre lieu de confinement s’il vous est demandé afin que la nature de votre déplacement puisse être vérifiée.',\n",
       " 'il existe deux documents différents permettant de se déplacer :   l’attestation de déplacement dérogatoire, qui est un document papier signé par la personne qui en fait usage.',\n",
       " 'elle ne peut donc pas être présentée depuis un smartphone.',\n",
       " 'nous étudions la possibilité de mettre en place un dispositif digital et mobile; l’attestation de l’employeur, qui est un document papier renseigné et signé par l’employeur attestant qu’une personne exerce une profession entrant dans la catégorie des professions autorisées à se déplacer et ne pouvant exercer en télétravail.',\n",
       " 'cette attestation doit être utilisée lors des déplacements domicile-travail et doit être présentée aux forces de l’ordre sur demande.',\n",
       " 'par ailleurs, la carte professionnelle des professionnels de santé (médecins, soignants, pharmaciens), des forces de sécurité et de secours (policiers, gendarmes et pompiers), des élus, des magistrats etc.',\n",
       " 'et des journalistes, peut être utilisée pour se rendre sur son lieu de travail.',\n",
       " 'elle ne constitue pas pour autant un « passe-droit » permettant de s’exonérer des règles applicables aux déplacements personnels, et de la présentation pour ceux-ci de l’attestation de déplacement dérogatoire.',\n",
       " 'l’attestation de déplacement dérogatoire peut être au choix imprimée ou rédigée sur papier libre selon le modèle téléchargeable en ligne.',\n",
       " 'en revanche, l’attestation employeur doit être visée par l’employeur.',\n",
       " 'il est nécessaire de recopier :  la partie correspondant à son identité  la mention « certifie que mon déplacement est lié au motif suivant autorisé par l’article 1er du décret du 16 mars 2020 portant réglementation des déplacements dans le cadre de la lutte contre la propagation du virus coronavirus la ligne correspondant au motif le lieu, la date et la signature.',\n",
       " 'pour chaque déplacement, une attestation de déplacement dérogatoire doit être renseignée et signée le jour même du déplacement : cette attestation n’est donc valable qu’une fois et doit être renouvelée au besoin.',\n",
       " 'l’attestation de déplacement dérogatoire ne prévoit pas de mention d’heure du déplacement.',\n",
       " 'c’est à chacun, en responsabilité, de réduire au maximum son temps de déplacement afin de limiter le plus possible ses contacts.',\n",
       " 'en revanche, lors d’un contrôle, les forces de l’ordre pourront inscrire l’heure du contrôle, afin que la même attestation ne puisse pas servir pour un second déplacement au cours de la même journée.',\n",
       " 'l’attestation de l’employeur, elle, a une validité permanente.',\n",
       " 'l’attestation de déplacement dérogatoire est à usage unique.',\n",
       " 'elle doit donc être renseignée à l’aide d’un stylo à encre indélébile et doit être renouvelée pour chaque déplacement.',\n",
       " 'j’ai des problèmes pour me déplacer.',\n",
       " 'non, l’attestation dérogatoire de déplacement est nominative.',\n",
       " 'chacun doit remplir une attestation différente, en indiquant le motif et la date de sortie.',\n",
       " 'chacun doit disposer également de son titre d’identité.',\n",
       " 'il convient de limiter le plus possible les déplacements.',\n",
       " 'ainsi il sera nécessaire de réaliser une déclaration signée à la date du jour, pour chaque déplacement personnel.',\n",
       " 'vous êtes incités à limiter vos sorties aux cas limitatifs énumérés, donc il est conseillé de grouper vos sorties et il est donc possible d’indiquer plusieurs motifs.',\n",
       " 'il est obligatoire de disposer de sa pièce d’identité pendant les déplacements afin que les contrôles puissent être réalisés par les forces de l’ordre.',\n",
       " 'les enseignants qui accueillent des enfants de soignants n’ont pas besoin de justificatif complémentaire.',\n",
       " 'les personnes illettrées peuvent faire appel à un proche, un voisin ou une connaissance.',\n",
       " 'au besoin, elles peuvent se rendre dans le commissariat ou la brigade de gendarmerie la plus proche de leur domicile pour être accompagnées dans la rédaction de leur attestation de déplacement dérogatoire.',\n",
       " 'non.',\n",
       " 'mais la carte professionnelle des professionnels de santé (médecins, soignants, pharmaciens), des forces de sécurité et de secours (policiers, gendarmes et pompiers), des élus, des magistrats etc.',\n",
       " 'et des journalistes peut être utilisée pour se rendre sur son lieu de travail.',\n",
       " 'non, je reste chez moi et je fais du télétravail.',\n",
       " 'si le télétravail n’est pas possible je peux me rendre au travail en transports ou par mes moyens personnels, muni d’une attestation et d’une carte d’identité.',\n",
       " 'mon employeur est tenu d’adapter mon travail pour assurer ma sécurité si le télétravail est impossible dans mon secteur.',\n",
       " \"oui, à condition qu'il s'agisse d'un déplacement professionnel indispensable et ne pouvant être différé.\",\n",
       " 'oui, mis à part évidemment si vous êtes affecté par le coronavirus ou si vous êtes une personne dite à risque (personnes enceintes, souffrant de maladies chroniques ou d’insuffisances cardiaques, âgées, immunodéprimées ou fragiles… la liste complète est sur www.ameli.fr), ou si vous devez garder vos enfants.',\n",
       " 'le gouvernement a interdit les déplacements et les activités qui génèrent des rassemblements publics (commerce, restaurants, spectacles, cinéma, manifestations sportives, salons, etc) pour éviter la propagation du virus.',\n",
       " 'seuls restent autorisés, les services « essentiels » c’est à dire les commerces alimentaires, les pharmacies etc.',\n",
       " 'les autres activités économiques ne font pas l’objet de restriction.',\n",
       " 'elles doivent quand c’est possible s’exercer par télétravail.',\n",
       " 'quand ce n’est pas possible, employeurs comme salariés doivent impérativement, comme dans leur vie quotidienne, respecter les  gestes barrière (se laver les mains, tousser ou éternuer dans son coude ou un mouchoir, jeter les mouchoirs en papier usagés…), et les règles de distanciation de plus d’un mètre entre chaque collègue et avec la clientèle.',\n",
       " 'pour garantir le lien continu et régulier avec les stagiaires de la formation professionnelle et d’éviter ainsi les ruptures de parcours, le ministère du travail travaille, avec régions de france, à la mise à disposition pour les organismes de formation de ressources pédagogiques, à la fois sous la forme de plateformes et solutions techniques permettant de diffuser, d’animer des formations et d’assurer le lien pédagogique, et sous la forme de contenus de formation et d’éléments de méthodes pour faciliter la formation à distance.',\n",
       " 'le type de ressources mobilisables et les accès à ces ressources seront proposés cette semaine, à la fois sur le site du ministère du travail et de régions de france.',\n",
       " 'dans tous les cas, et notamment lorsque le lien avec les stagiaires qui ont débuté leur formation ne pourra pas être maintenu, le ministère du travail et régions de france prendront les dispositions pour maintenir le niveau de rémunération des stagiaires durant toute la période de report.',\n",
       " 'mon contrat de travail s’arrête pendant la période confinement.',\n",
       " 'les conditions pour bénéficier des allocations chômage ne changent pas pendant la période de confinement.',\n",
       " \"vous pourrez prétendre aux allocations chômage en vous inscrivant à pôle emploi, à conditions de remplir notamment les conditions suivantes : vous avez été salarié au moins 6 mois au cours des 24 derniers mois (36 derniers mois si vous êtes âgé d'au moins 53 ans à la date de fin de votre dernier contrat de travail) ; vous avez involontairement perdu votre emploi (licenciement - quel qu’en soit le motif-, fin de cdd ou de mission d'intérim) ou avez perdu votre emploi dans le cadre d’une rupture conventionnelle ou d’une rupture d’un commun accord.\",\n",
       " 'la situation de confinement imposée aux français a pour effet de ralentir considérablement l’activité économique, et de limiter les opportunités de reprise d’emploi.',\n",
       " 'dans ce contexte, le gouvernement a décidé de prolonger la durée d’indemnisation des personnes dont les droits prennent fin durant la période de confinement.',\n",
       " 'l’indemnisation sera automatiquement prolongée jusqu’à la fin de cette période de confinement.',\n",
       " 'tous ceux qui doivent faire maintenant ou prochainement une déclaration trimestrielle de ressources sont encouragés à le faire par internet.',\n",
       " 'cependant, toute personne dans l’incapacité de renouveler sa déclaration trimestrielle auprès des services des caf verra le versement des prestations auxquelles elle avait droit jusqu’alors automatiquement renouvelé.',\n",
       " 'ce dispositif mis en place par les caf permettra la continuité des droits pour celles et ceux qui en ont besoin.',\n",
       " 'sont en particulier ainsi concernés : le revenu de solidarité active (rsa), le revenu de solidarité (rso) dans les outre-mers, l’allocation adulte handicapés (aah), l’allocation d’éducation de l’enfant handicapé (aeeh), et l’ensemble des aides sociales versées sous condition de ressource par les caf.',\n",
       " 'les aides au logement seront automatiquement maintenues.',\n",
       " 'par ailleurs, les droits à l’allocation adulte handicapées (aah) et à l’allocation d’éducation de l’enfant handicapé (aeeh) qui arriveraient à échéance seront automatiquement prorogés de six mois.',\n",
       " 'de la même manière, les droits à la complémentaire santé solidaire et de l’aide au paiement d’une assurance complémentaire de santé dont le bénéfice expirera au cours des prochains mois seront prolongés de 3 mois.',\n",
       " 'ces dispositions sont intégrées dans le projet de loi d’urgence sanitaire présenté au parlement cette semaine.',\n",
       " 'les supermarchés et épiceries resteront ouverts.',\n",
       " 'leur approvisionnement en produits alimentaires et de première nécessité sera garanti dans les jours et les semaines à venir et les règles du travail de nuit notamment, seront assouplies pour les magasins.',\n",
       " 'il n’y a donc aucun risque de rationnement et il faut éviter la surconsommation préventive.',\n",
       " 'les espaces culturels et les cafétérias de la grande distribution seront fermés.',\n",
       " 'dans la rue et dans le magasin, je dois respecter une distance de 1 mètre avec les gens qui m’entourent et mettre en oeuvre les gestes barrières en avant d’y aller et en rentrant.',\n",
       " 'la liste des établissements qui bénéficient d’une dérogation pour rester ouverts se trouve dans la rubrique “les établissements fermés”.',\n",
       " 'oui mais c’est peu probable.',\n",
       " \"les caddies, comme toutes les surfaces, peuvent servir de support au virus s'ils sont souillés par des gouttelettes respiratoires d’un sujet contaminé.\",\n",
       " 'le virus peut rester quelques heures sur une surface comme un caddy, mais en quantité faible.',\n",
       " 'en appliquant les mesures barrières (se laver les mains notamment) et en nettoyant le caddy avec une lingette, le risque devient négligeable.',\n",
       " \"ecoles, collèges, lycées et universités du pays sont fermés depuis le lundi 16 mars, et ce au moins jusqu'aux vacances de printemps.\",\n",
       " \"cela concerne plus de 12 millions d'élèves et 2,6 millions d'étudiants.\",\n",
       " 'trois à quatre heures d\\'enseignement par jour - exercices en ligne, \"classe virtuelle\" en visioconférence - doivent être proposées.',\n",
       " 'les examens et les concours de recrutement sont reportés.',\n",
       " 'tous les étudiants en santé qui souhaitent proposer leur aide pour la gestion de crise peuvent se signaler auprès de leur université (par exemple, apporter un appui aux centres d’appels du 15).',\n",
       " 'un service de garde sera mis en place par département, pour les personnels indispensables à la gestion de la crise sanitaire.',\n",
       " 'dans le cadre des fermetures d’écoles, si vous êtes parent d’un enfant âgé de moins de 16 ans vous pouvez bénéficier d’un arrêt maladie indemnisé, si vous ne pouvez pas bénéficier d’un aménagement de vos conditions de travail vous permettant de rester chez vous pour garder votre enfant.',\n",
       " 'a noter qu’un seul des deux parents peut bénéficier d’un arrêt dans ce contexte.',\n",
       " 'la procédure est la suivante :  contactez votre employeur et évaluez avec lui les modalités de télétravail qui pourraient être mises en place ; si aucune autre solution ne peut être retenue, c’est l’employeur qui doit, via la page employeur du site dédié https://declare.ameli.fr/, déclarer votre arrêt de travail ; l’indemnisation est ensuite enclenchée à partir de cette déclaration.',\n",
       " 'vous percevrez les indemnités journalières et, le cas échéant, le complément de salaire de votre employeur dès le 1er jour d’arrêt, sans application du délai de carence ; vous n’avez pas à contacter l’ars ou votre caisse d’assurance maladie, c’est la déclaration de votre employeur, accompagnée de la transmission des éléments de salaires selon les canaux habituels, qui va permettre l’indemnisation de votre arrêt de travail ; les employeurs sont invités à pratiquer dans le maximum de cas le maintien de salaire au bénéfice de leurs salariés, auquel cas ils versent le salaire à hauteur du complément sans attendre le versement des indemnités journalières par l’assurance maladie ; si vous êtes non-salarié (travailleurs indépendant ou exploitant agricole), vous déclarez directement votre arrêt sur le site internet dédié.',\n",
       " 'en tant que particulier-employeur vous êtes lié par un contrat avec la personne qui garde votre enfant.',\n",
       " 'les assistante maternelle peuvent toutefois bénéficier des mesures de chômage partiel.',\n",
       " 'vous êtes donc tenu de lui payer 80% de son salaire qui vous sera remboursé ultérieurement.',\n",
       " 'les visites aux personnes fragiles et âgées à domicile comme dans les établissements médico-sociaux sont suspendues.',\n",
       " 'les mineurs et les personnes malades ne peuvent plus accéder à ces établissements, maternités comprises.',\n",
       " 'en revanche, les services de soins et d’accompagnement à domicile continuent à intervenir auprès des plus fragiles lorsque cela est nécessaire ; ils doivent néanmoins appliquer les gestes barrières avec une attention extrême.',\n",
       " \"a l'instar des pharmacies, les cabinets de médecine resteront ouverts tout comme les centres d’ivg, mais attention : il est demandé aux personnes qui ressentent les symptômes du coronavirus de ne pas se rendre au cabinet de leur médecin de ville.\",\n",
       " 'en cas de symptômes légers (fièvre et toux), il faut d’abord appeler son médecin traitant ou opter pour une téléconsultation.',\n",
       " \"si les symptômes s’aggravent au bout de quelques jours avec l'apparition de symptômes respiratoires, il faut appeler le 15.  les commerces de matériel médical restent ouverts vous pouvez donc vous rendre chez l’opticien par exemple.\",\n",
       " 'toutes les capacités hospitalières nationales et le maximum de médecins et de soignants sont mobilisés ; les consultations et les soins \"non essentiels\" sont reportés dans les hôpitaux.',\n",
       " \"les restaurants ont fermé leurs portes le dimanche 15 mars, comme tout comme les bars, brasseries, cafés et discothèques, jusqu'à nouvel ordre.\",\n",
       " \"en revanche les activités de vente à emporter et de livraison sont maintenues dans les restaurants et débits de boissons, avec la recommandation d'éviter tout contact.\",\n",
       " \"les cinémas sont fermés, tandis que tous les événements culturels et sportifs ont été annulés et les rassemblements publics de plus de 100 personnes ont été interdits à l'échelle nationale.\",\n",
       " 'ce chiffre peut tomber à 50 dans les zones les plus touchées (arrêtés préfectoraux comme haut rhin, oise etc ...).',\n",
       " 'les musées, théâtres, opéras, piscines sont également fermés.',\n",
       " 'les salles de sport sont également fermées.',\n",
       " 'je ne peux pas aller à une fête ou recevoir chez moi en dehors des membres de mon foyer.',\n",
       " 'je ne peux pas non plus organiser mon mariage.',\n",
       " \"les entreprises d’entretien et réparation de véhicules automobiles, de véhicules, engins et matériels agricoles, de commerce d'équipements automobiles et de commerce et réparation de motocycles et cycles restent ouverts.\",\n",
       " 'il est donc possible de procéder à un contrôle technique réglementaire si vous ne pouvez pas le reporter.',\n",
       " 'dans ce cas cochez la case \"déplacements pour effectuer des achats de première nécessité\" sur l\\'attestation de déplacement dérogatoire.',\n",
       " 'l’employeur doit renseigner et signer une attestation dédiée, différente de l’attestation de déplacement dérogatoire.',\n",
       " 'il s’agit d’un document papier renseigné et signé par l’employeur attestant qu’une personne exerce une profession entrant dans la catégorie des professions autorisées à se déplacer et ne pouvant exercer en télétravail.',\n",
       " 'cette attestation doit être utilisée lors des déplacements domicile-travail et doit être présentée aux forces de l’ordre sur demande.',\n",
       " 'oui, les sorties indispensables à l’équilibre des enfants, le sport et l’activité physique individuels dans les espaces ouverts, sont autorisés à proximité du domicile, dans le respect des gestes-barrières et en évitant tout rassemblement.',\n",
       " 'une seule attestation sur l’honneur suffit pour un adulte avec des enfants.',\n",
       " 'les activités physiques en groupe ou les pique-niques entre amis sont par contre interdits.',\n",
       " 'les sports collectifs ou de contact sont à proscrire.',\n",
       " 'si vous disposez d’un jardin, vous pouvez pratiquer un sport, mais uniquement au sein du cercle familial auquel le confinement s’applique et sauf, évidemment, si l’un des membres de la famille est malade.',\n",
       " 'faire du sport en extérieur, c’est donc avant tout faire une marche ou un petit footing mais en respectant 3 règles importantes :  rester à proximité de son domicile – donc dans son quartier ; que cette sortie soit brève ; et sans autre contact qu’avec sa cellule familiale.',\n",
       " 'vous pouvez sortir avec vos enfants ou seul mais pas retrouver des amis.',\n",
       " 'les applications qui ont déjà conventionné avec les fédérations sportives ainsi qu’avec le comité national olympique et sportif français, s’engagent à proposer gratuitement, dans les jours à venir, aux françaises et aux françaises leurs programmes conçus par des professionnels du sport, mais également de la santé et de l’activité physique adaptée.',\n",
       " 'des séances d’entraînement variées à base d’exercices de renforcement musculaire, proprioception, massages, stretching et mouvements fondamentaux seront notamment proposées en accès libre sur les différentes plateformes (mobile, tablette et ordinateur).',\n",
       " 'uniquement pour vous occuper de personnes vulnérables comme par exemple les personnes handicapées et en vous rappelant que les seniors sont les personnes les plus vulnérables : il faut les protéger le plus possible de tout contact et porter une attention encore renforcée aux gestes barrières.',\n",
       " 'afin de permettre la poursuite de l’activité économique et les déplacements autorisés limitativement,  en respectant les précautions des gestes barrières, certains vols sont maintenus.',\n",
       " 'afin de permettre la poursuite de l’activité économique et les déplacements autorisés limitativement, en respectant les précautions des gestes barrières, certaines liaisons ferroviaires diminuent leur fréquence mais la majorité des liaisons sont maintenues.',\n",
       " 'le président a annoncé la fermeture, à partir du 17 mars à midi et pour 30 jours, des frontières extérieures de l’espace européen, c’est-à-dire de l’union européenne, de l’espace schengen et du royaume-uni.',\n",
       " 'non, partir en vacances, se rendre dans sa résidence secondaire ou une résidence de location ne font pas partie des déplacements autorisés.',\n",
       " 'si vous avez choisi de débuter la période de confinement dans votre résidence secondaire, vous devez y rester.',\n",
       " \"seule la fin d'un bail de location est un motif impérieux pour rentrer dans votre résidence principale.\",\n",
       " \"oui, ils peuvent rentrer chez eux en invoquant le motif impérieux sur l'attestation dérogatoire de déplacement.\",\n",
       " 'oui, pour lui permettre de satisfaire ses besoins ou pour un rendez-vous vétérinaire.',\n",
       " 'oui, les laveries font partie des établissements autorisés à ouvrir.',\n",
       " 'il convient de cocher sur l’attestation dérogatoire de déplacement la case « achat de première nécessité ».',\n",
       " 'non, mais la règle est le déplacement bref et à proximité du domicile.',\n",
       " 'chacun doit faire preuve de responsabilité.',\n",
       " 'la règle est le déplacement bref et à proximité du domicile.',\n",
       " \"cependant, si vous n'avez pas d'autre possibilité pour vous ravitailler, vous pouvez aller faire des courses loin de votre domicile, pour des achats de première nécessité.\",\n",
       " 'oui.',\n",
       " 'oui.',\n",
       " 'se déplacer pour donner son sang est autorisé.',\n",
       " \"il convient d'indiquer un déplacement pour motif de santé.\",\n",
       " 'je peux rester dans un hôtel ou une cité universitaire si je n’ai pas d’autre domicile, mais les restaurants et bars doivent garder leurs portes closes.',\n",
       " \"il est toutefois possible d'y prendre son petit déjeuner ou tout autre repas, mais uniquement ebre.\",\n",
       " 'les transports ne seront ouverts qu’aux personnes étant dans l’obligation de se rendre sur leur lieu de travail.',\n",
       " 'une attestation pourra leur être demandée.',\n",
       " 'le covoiturage est possible pour effectuer les déplacements autorisés.',\n",
       " 'chaque passager du véhicule doit être muni d’une attestation (ou d’un justificatif de déplacement professionnel) en règle.',\n",
       " 'le second tour des élections municipales a été reporté.',\n",
       " 'les déménagements sont autorisés mais doivent être limités aux besoins stricts comme par exemple une fin de bail.',\n",
       " 'il est conseillé de reporter votre déménagement si cela est possible.',\n",
       " 'si toutefois les déménagements s’avèrent indispensables, vous devez remplir une déclaration sur l’honneur en notant la date du déménagement, l’adresse de départ et celle d’arrivée dans le nouveau logement.',\n",
       " 'vous devez avoir attestation sur vous au moment du déménagement.',\n",
       " 'pour les locataires qui avaient posé leur congé et qui n’ont pas l’obligation de partir, ils peuvent rester dans le logement après la date initialement fixée et jusqu’à la fin du confinement.',\n",
       " 'ils doivent signer une convention d’occupation précaire au bailleur.',\n",
       " 'cette convention leur donne un titre d’occupation, contractualise un report de la date de sortie et le versement d’une indemnisation d’occupation (égale au loyer).',\n",
       " 'cette convention permet de sécuriser juridiquement les locataires et les propriétaires.',\n",
       " 'la convention peut être signée, de part et d’autre, par voie électronique.',\n",
       " 'pour plus d’information, contactez l’adil de votre département  attention : le loyer est dû pour tous les locataires, la suspension des loyers, annoncée par le président de la république le 16 mars ne concerne que les petites entreprises en difficulté.',\n",
       " \"les opérations bancaires essentielles (retrait d’argent, opérations pour les personnes placées sous tutelle ou curatelles, démarches des responsables d'entreprises pour contracter des prêts garantis par l'état, - les retraits de chéquiers ou de cb…) sont autorisées et considérées comme nécessaires afin de pouvoir payer les activités essentielles (consultations médicales, courses alimentaires).\",\n",
       " 'qu\\'est ce qu\\'un déplacement \"pour motif familial impérieux\" ?',\n",
       " 'sauf nécessité pour porter assistance à des personnes ne pouvant se déplacer seules (personne à mobilité réduite, enfants…) vous ne devez pas aller accueillir vos proches dans les gares et aéroports.',\n",
       " \"au regard des mesures limitant les déplacements et le regroupement des personnes afin de lutter contre la crise sanitaire, la célébration des mariages et l'enregistrement des pacs doivent en principe être reportés.\",\n",
       " \"il peut toutefois être fait exception à cette règle pour des motifs justifiant qu'il y a urgence à l'établissement du lien matrimonial ou du partenariat (par exemple, mariage in extremis ou mariage d'un militaire avant son départ sur un théâtre d'opérations).\",\n",
       " \"les officiers de l'état civil doivent préalablement solliciter les instructions du procureur de la république.\",\n",
       " \"l'organisation des cérémonies funéraires demeure possible mais dans la stricte limite du cercle des intimes, donc en nombre très réduit et en observant scrupuleusement les gestes barrières.\",\n",
       " 'seuls les membres proches de la famille (20 personnes au maximum) ainsi que les desservants de rites funéraires pourront donc faire l\\'objet d\\'une dérogation aux mesures de confinement fondée sur des \"motifs familiaux impérieux\".',\n",
       " 'les ministres des cultes ont le droit de se rendre au chevet des personnes malades ou en fin de vie.',\n",
       " 'oui, les lieux de culte ont été autorisés à rester ouverts.',\n",
       " 'mais je ne peux pas participer à un rassemblement ou une réunion de plus de 20 personnes au sein d’un lieu de culte.',\n",
       " 'l’agence nationale de sécurité du médicament (ansm) a décidé, afin de garantir leur disponibilité, qu’à partir du 18 mars 2020, les pharmaciens pourront délivrer sans ordonnance une seule boite de paracétamol (500 mg ou 1g) par patient ne présentant aucun symptôme, ou deux boites (500 mg ou 1g) en cas de symptômes (douleurs et/ou fièvre).',\n",
       " \"la vente sur internet des médicaments à base de paracétamol, d'ibuprofène et d'aspirine est suspendue.\",\n",
       " 'les commissariats ouverts au public 24h/24 le resteront, seuls les bureaux de police qui offraient un accueil limité en journée sont fermés.',\n",
       " 'il est néanmoins conseillé d’appeler le 17 afin de pouvoir disposer d’informations permettant soit de reporter le déplacement soit d’effectuer des démarches en ligne.',\n",
       " \"je n’ai pas de symptômes ou je n'ai pas encore été exposé au coronavirus  je reste chez moi et je limite mes déplacements au strict nécessaire (travail, courses, rendez-vous médicaux).\",\n",
       " 'j’applique les gestes barrières : je me lave régulièrement les mains, je tousse et éternue dans mon coude, j’utilise des mouchoirs à usage unique et les jette immédiatement, je ne salue pas les autres par une poignée de main ou par une embrassade, je respecte une distance de 1 mètre avec toute autre personne.',\n",
       " 'je suis parent : si c’est possible, j’assure la garde de mes enfants à mon domicile.',\n",
       " 'les établissements scolaires étant temporairement fermés pour freiner la propagation de l’épidémie, je garde mes enfants de moins de 16 ans à domicile, et j’évite de les confier à leurs grands-parents qui sont plus vulnérables face à l’épidémie.',\n",
       " 'une procédure simplifiée me permet de bénéficier d’un arrêt de travail indemnisé dans ce cadre.',\n",
       " 'j’ai été en contact avec un cas confirmé de coronavirus  je reste à mon domicile, je m’isole 2 semaines, je respecte scrupuleusement les gestes barrières, je surveille ma température 2 fois par jour, je surveille l’apparition éventuelle de symptômes (toux, difficultés respiratoires, fièvre) et j’adopte le télétravail.',\n",
       " 'si des symptômes surviennent, je peux appeler mon médecin, mais je ne me déplace pas jusqu’à son cabinet, ni au laboratoire ni aux urgences.',\n",
       " 'j’ai des symptômes (toux, fièvre) qui me font penser au coronavirus je reste à domicile, j’évite les contacts, j’appelle un médecin si besoin et ne me rends pas directement au cabinet, au laboratoire ou aux urgences.',\n",
       " 'je peux également bénéficier d’une téléconsultation.',\n",
       " 'si les symptômes s’aggravent avec des difficultés respiratoires et signes d’étouffement, j’appelle le samu- centre 15.  je suis médecin libéral j’organise mon activité pour être en mesure d’accueillir ou de conseiller des patients symptomatiques du coronavirus  je suis un élu local en lien avec les services de l’etat, je veille à faire respecter les consignes de fermeture de l’ensemble des services non essentiels à la vie publique (cinémas, restaurants, bars…) et à limiter les rassemblements.',\n",
       " 'je diffuse régulièrement les gestes barrières et les recommandations du ministère des solidarités et de la santé.',\n",
       " 'je suis un employeur je généralise le recours au télétravail dans mon entreprise et suspens toute réunion physique de personnes qui ne serait pas indispensable à la continuation de l’activité.',\n",
       " 'j’informe tous mes salariés des bonnes pratiques et recommandations pour protéger la population.',\n",
       " 'si mon entreprise a des difficultés je contacte le 0 800 130 000.  je suis un étudiant mon établissement est fermé à compter du 16 mars.',\n",
       " 'je consulte quotidiennement les informations que m’adressent mes professeurs.',\n",
       " 'je poursuis mon cursus au moyen des outils et supports numériques mis à ma disposition.',\n",
       " 'si je suis étudiant en santé et volontaire, je signale ma disponibilité à mon université pour aider à la gestion de crise en appui aux équipes médicales mobilisées face à l’épidémie (exemple : appui aux centres 15 pour la gestion des appels téléphoniques).',\n",
       " 'je suis une femme enceinte en l’état actuel des connaissances, rien n’indique que ma grossesse m’expose particulièrement au coronavirus.',\n",
       " 'j’applique les gestes et comportements qui permettent de freiner l’épidémie.',\n",
       " 'le haut conseil de la santé publique recommande cependant d’appliquer aux femmes enceintes, à partir du troisième trimestre de grossesse, les mesures préventives applicables aux personnes fragiles (par exemple : restriction voire interdiction des visites, contre-indication quant à l’usage des transports collectifs, limitation des contacts avec les enfants de moins de 10 ans).',\n",
       " 'je suis une personne âgée je respecte strictement les gestes barrières exposée à des risques de forme grave ou de complication du coronavirus je limite les rencontres avec mes proches (en particulier lorsqu’ils sont mineurs) et privilégie les contacts téléphoniques ou audiovisuels je ne reçois aucune visite et m’abstiens de toute sortie si j’ai des symptômes grippaux simples, je contacte mon médecin généraliste.',\n",
       " 'si j’ai une mauvaise tolérance (difficultés respiratoires, malaise, je contacte le samu centre-15.)',\n",
       " 'je suis une assistante maternelle je peux poursuivre mon activité professionnelle si je l’exerce à titre individuel.',\n",
       " 'je veille à éviter les contacts entre les enfants que je garde et les personnes fragiles (personnes âgées notamment).',\n",
       " 'pour les personnes en situation de handicap, des mesures ont été prises pour protéger les personnes, avec la mobilisation de l’ensemble de la solidarité nationale.',\n",
       " 'le port du masque chirurgical n’est pas recommandé sans présence de symptômes.',\n",
       " 'le masque n’est pas la bonne réponse pour le grand public car il ne peut être porté en permanence et surtout n’a pas d’indication sans contact rapproché et prolongé avec un malade.',\n",
       " 'comme pour l’épisode de grippe saisonnière, ce sont les gestes barrières qui sont efficaces.',\n",
       " \"afin de ralentir la propagation du coronavirus  salles d'auditions, de conférences, de réunions, de spectacles ou à usage multiple (par exemple, les cinémas) ; centres commerciaux et commerces autres que ceux autorisés à rester ouverts ; restaurants et débits de boissons ; salles de danse et salles de jeux ; bibliothèques, centres de documentation ; salles d'expositions ; etablissements sportifs couverts ; musées.\",\n",
       " 'les restaurants et bars d’hôtels, à l’exception du “room service”, sont considérés comme relevant de la catégorie “restaurants et débits de boissons”, et ne peuvent donc pas accueillir de public.',\n",
       " 'les commerces qui ne peuvent plus accueillir de clients peuvent maintenir leurs activités de livraison et de retrait de commandes.',\n",
       " \"par ailleurs, les navires de croisière et navires à passagers transportant plus de 100 passagers ont interdiction de faire escale en corse, et ont interdiction de faire escale ou de mouiller dans les eaux intérieures et territoriales des départements et régions d'outre-mer, ainsi que de saint-barthélemy et saint-martin, saint-pierre-et-miquelon, et wallis-et-futuna, sauf dérogation accordée par le représentant de l'etat compétent pour ces mêmes collectivités.\",\n",
       " 'tous les établissements indispensables à la vie de la nation, notamment les marchés alimentaires clos ou ouverts et commerces alimentaires (y compris les drive alimentaires), les pharmacies, les stations-services, les banques, les bureaux de tabac et distribution de la presse.',\n",
       " 'compte tenu de leur contribution à la vie de la nation, les services publics restent également ouverts, y compris ceux assurant les services de transport.',\n",
       " 'tous les services de livraison de repas à domicile restent disponibles, et les établissements de la catégorie “restaurants et débits de boissons” sont autorisés à maintenir leurs activités de ventes à emporter et de livraison.',\n",
       " 'les hôtels sont assimilés à des domiciles privés et restent donc ouverts, et leurs “room service” restent disponibles.',\n",
       " 'cependant, les restaurants et bars d’hôtels ne peuvent pas accueillir de public.',\n",
       " 'les animaleries restent également ouvertes.',\n",
       " 'le président a annoncé la fermeture, à partir du 17 mars à midi et pour 30 jours, des frontières extérieures de l’espace européen, c’est-à-dire de l’union européenne, de l’espace schengen et du royaume-uni.',\n",
       " 'il est nécessaire de restreindre les mouvements internationaux dans toute la mesure du possible.',\n",
       " 'je suis un ressortissant français actuellement en déplacement temporaire à l’étranger.',\n",
       " 'si vous êtes français, que vous vous trouvez à l’étranger en déplacement temporaire, mais que vous vivez habituellement en france, revenez rapidement, tant que les lignes aériennes commerciales restent ouvertes ; et restez ensuite chez vous confinés.',\n",
       " 'pour plus d’informations, consultez la page dédiée du ministère de l’europe et des affaires étrangères.',\n",
       " 'a/ si vous êtes français résident au sein de l’espace européen (union européenne, espace schengen, royaume-uni).',\n",
       " 'si vous êtes français ayant une résidence habituelle hors de france mais au sein de l’espace européen, nous vous recommandons d’éviter des déplacements intra-européens, même pour revenir sur le territoire national, à moins que des raisons impératives ne vous y contraignent.',\n",
       " 'si plusieurs frontières terrestres devaient être franchies pour regagner la france, des retours directs par voie aérienne devraient, dans la mesure du possible, être privilégiés.',\n",
       " 'b/ si vous êtes français ayant votre résidence habituelle en dehors de l’espace européen.',\n",
       " 'nous vous recommandons, à partir du 17 mars à midi et pour 30 jours, d’éviter autant que possible les déplacements internationaux, même pour revenir sur le territoire national, à moins que des raisons impératives ne vous y contraignent.',\n",
       " 'si vous jugez nécessaire de rentrer en france, notamment au regard vos conditions sanitaires, vous devez vous faire connaître de nos ambassades et consulats dès que possible.',\n",
       " 'c/ si vous êtes français actuellement en déplacement temporaire à l’étranger nous vous recommandons de prendre toutes les mesures nécessaires pour rentrer rapidement en france.',\n",
       " 'pour vous y aider, le ministère chargé des transports a demandé aux compagnies aériennes de maintenir au maximum leurs lignes ouvertes vers la france et de modérer leurs prix.',\n",
       " 'le ministère de l’europe et des affaires étrangères est mobilisé pour obtenir l’autorisation de liaisons aériennes spéciales et pour qu’elles puissent être assurées par des vols commerciaux.',\n",
       " 'ces démarches ont déjà porté leurs fruits dans plusieurs pays.',\n",
       " 'en outre, un mécanisme global et mondial pourra permettre à nos ressortissants qui le souhaitent de rentrer chez eux en france par voie aérienne.',\n",
       " 'il va être mis en place très rapidement, en lien avec air france.',\n",
       " 'il reposera sur un plan de transport aérien adapté pour l’ensemble du monde, en fonction des priorités et urgences locales, et permettra à chacun de réserver et acheter un billet retour auprès d’une compagnie.',\n",
       " 'les détails de ce mécanisme seront précisés d’ici la fin de la semaine à nos ressortissants en difficultés, par air france et notre réseau diplomatique et consulaire.',\n",
       " 'il faut donc à la fois consulter régulièrement les sites des ambassades et d’air france.',\n",
       " 'malgré la suspension progressive de la plupart des dessertes aériennes dans le monde dans les prochains jours, nous serons ainsi en mesure de proposer, avec les compagnies aériennes des solutions commerciales raisonnables permettant le retour en france.',\n",
       " 'les français non - résidents sont invités à s’inscrire sur ariane, afin de recevoir des informations actualisées.',\n",
       " 'les ambassades et les consulats sont mobilisés 24 heures sur 24, auprès des français se trouvant à l’étranger, pour apporter toute l’aide possible.',\n",
       " 'pour plus d’informations, consultez la page dédiée du ministère de l’europe et des affaires étrangères.',\n",
       " 'un service d’urgence a été mis en place pour mettre en relation des français bloqués à l’étranger en situation de difficultés et des français établis hors de france se portant volontaires pour les accueillir.',\n",
       " 'vous pouvez vous connecter à l’adresse www.sosuntoit.fr.',\n",
       " 'les citoyens européens et les ressortissants britanniques, islandais, liechtensteinois, norvégiens, andorrans, monégasques et suisses, leurs conjoints et leurs enfants sont admis à entrer sur le territoire national, de même que les citoyens du saint siège et de san marin, leurs conjoints et leurs enfants, quel que soit leur lieu de résidence.',\n",
       " 'les étrangers titulaires d’un titre de séjour en cours de validité, y compris visa de long séjour valant titre de séjour, sont autorisés à entrer en france.',\n",
       " 'dans des cas limités (transport de marchandises notamment), des étrangers titulaires d’un visa de court séjour seront autorisés à entrer en france.',\n",
       " 'si vous êtes français, vous pouvez bien sûr, avec votre conjoint et vos enfants, continuer d’entrer sur le territoire national et rejoindre votre domicile.',\n",
       " 'pour plus d’informations, consultez la page dédiée du ministère de l’europe et des affaires étrangères.',\n",
       " 'il convient de se référer aux informations coronavirus du gouvernement ainsi qu’au site internet de santé publique france.',\n",
       " 'vous pouvez également contacter le numéro vert : 0 800 130 000. pour toute question d’ordre médical, il convient de vous adresser à votre médecin.',\n",
       " \"la pandémie de maladie à coronavirus de 2020 en france se propage depuis le 24 janvier 2020. la france est le septième foyer de contagion de la coronavirus  afin de limiter la propagation du virus, le gouvernement français ordonne un confinement qui restreint les mouvements de la population à partir du 17 mars à 12 h.  au 22 mars, le bilan cumulatif publié par l'agence nationale de santé publique fait état de 16 689 cas dont 1 746 graves et 674 décès, correspondant aux seuls cas confirmés.\",\n",
       " \"la france, qui dépistait tous les cas suspects au début de l'épidémie et procédait à des enquêtes approfondies pour identifier les contacts susceptibles d'être infectés, a rapidement changé de politique, malgré les conseils de l'organisation mondiale de la santé préconisant le test systématique des cas suspects3.\",\n",
       " 'de nombreuses personnes porteuses du virus ne sont pas comptées comme contaminées, car ne présentant pas de symptômes, ou présentant des symptômes légers (petite toux, fièvre) sans détresse respiratoire.',\n",
       " \"en effet, les services médicaux ayant un matériel médical limité (capacité de traiter 2 000 à 2 500 tests par jour), la priorité a été donnée à trois catégories de population, outre les personnes hospitalisées : les personnes présentant des symptômes d'un niveau de gravité élevée, ainsi que les personnes à risque et les personnels médicaux présentant des symptômes.\",\n",
       " 'dans les établissements collectifs, les tests sont systématiques pour les trois premières personnes présentant des symptômes.',\n",
       " 'pour les autres, les consignes sont de rester en confinement3,4.',\n",
       " \"cette politique contraste avec celle menée en corée du sud, où 10 000 tests par jour sont pratiqués, ce qui permet, outre une prise ege ou un isolement plus précoce, d'anticiper sur les besoins en soins, et de mieux connaître la cinétique de propagation du virus.\",\n",
       " 'un dépistage systématique effectué en italie sur une population de 3 000 personnes a montré la présence de 50 % à 75 % de porteurs du virus asymptomatiques3,4.',\n",
       " \"dans les départements français les moins atteints par le virus, les critères sont un peu plus souples, permettant de mieux détecter la progression de l'épidémie.\",\n",
       " \"les trois premiers en france sont recensés le 24 janvier 2020. il s'agit de chinois ayant séjourné à wuhan, foyer d'origine du virus en chine centrale.\",\n",
       " 'ces trois personnes sont également les premiers cas annoncés en europe.',\n",
       " \"deux d'entre elles sont hospitalisées à paris, la troisième à bordeaux5.\",\n",
       " \"le premier mort recensé est un touriste chinois arrivé en france le 23 janvier 2020. âgé de 80 ans, il décède dans le service de réanimation de l'hôpital bichat, à paris, le 14 février6.\",\n",
       " \"le premier français décédé est un enseignant dans l'oise le 25 février 2020. âgé de 60 ans, en arrêt maladie depuis 12 jours, il décède d'une embolie pulmonaire dans le service de réanimation de la pitié-salpêtrière.\",\n",
       " \"le 31 janvier 2020, environ 220 français rapatriés de chine atterrissent à la base aérienne d'istres, à bord d'un airbus a340 de l'escadron de transport 3/60 esterel stationné à la base aérienne 110 de creil8.\",\n",
       " 'ces personnes sont placées en quarantaine dans un centre de vacances de carry-le-rouet.',\n",
       " \"le 2 février 2020, un second rapatriement de ressortissants français atterrit à la base aérienne d'istres.\",\n",
       " 'ce vol, effectué par un airbus a380-800 de la compagnie hi fly, transporte 65 français à son bord.',\n",
       " 'le 8 février, un troisième rapatriement de 38 français est organisé par les autorités britanniques.',\n",
       " \"le 21 février, une trentaine de français restés à wuhan sont rapatriés à l'aéroport de paris-charles-de-gaulle et placés en quarantaine à branville, dans le calvados14.\",\n",
       " \"le 13 mars, 120 élèves de l'école de gendarmerie de tulle (corrèze) en stage en espagne, ainsi que leurs 20 accompagnants ont été rapatriés16.\",\n",
       " 'ils étaient confinés depuis le 10 mars à la suite du test positif passé sur deux de leurs collègues espagnols.',\n",
       " \"la france dispose d'un plan de réaction à la pandémie de coronavirus, qui repose sur le plan orsan et plus précisément le volet orsan reb, consacré aux risques épidémiques et biologiques.\",\n",
       " 'il a été déclenché le 23 février par olivier véran, ministre des solidarités et de la santé.',\n",
       " \"ce plan comporte quatre stades :  le stade 1 est celui où « le virus n'est pas en circulation générale dans la population » ; il doit permettre de freiner l'introduction du virus en france ; le stade 2 a pour objectif de freiner la propagation du virus sur le territoire ; le stade 3 correspond à une circulation libre du virus sur le territoire, et vise l’atténuation des effets de la pandémie ; le stade 4 constate le retour à une situation normale.\",\n",
       " 'l’information officielle des professionnels de santé est assurée par le canal de la liste de diffusion dgs-urgent, alimentée par la direction générale de la santé153.',\n",
       " \"la liste diffuse en particulier des lignes directrices pour la prise ege des patients coronavirus  le 16 mars 2020 la dgs actualise ses recommandations et publie le guide méthodologique de préparation à la phase épidémique de coronavirus  néanmoins des professionnels de santé se plaignent d’une information ressentie comme insuffisante, de l'absence de stratégie de dépistage et du manque de matériels.\",\n",
       " 'en 2009, l’état détenait 723 millions de masques de protection ffp2 et 1 milliard de masques chirurgicaux, puis la décision a été prise de ne pas renouveler certains stocks arrivant à péremption285 car en cas de besoin soudain les usines de production étaient capables d’être actives très rapidement, notamment en chine.',\n",
       " \"pour olivier véran, l’état dispose en 2020 d'un stock de 150 millions de masques chirurgicaux et d'aucun stock de masques de protection ffp2286.\",\n",
       " \"sur la question des masques, l'italie a demandé de l'aide.\",\n",
       " \"la commission suggère que la position des gouvernements français et allemand ne serait pas complètement compatible avec la logique du marché commun : la france souhaite lutter contre la spéculation, l'allemagne que les masques soient disponibles sur zone.\",\n",
       " \"le ministre des affaires étrangères, jean-yves le drian annonce le 18 mars que la chine va livrer deux millions de masques à l'union européenne288.\",\n",
       " \"les besoins mensuels en masques uniquement en france sont estimés à 56 millions d'unités.\",\n",
       " 'les coronavirus (cov) forment une grande famille de virus qui provoquent des manifestations allant du simple rhume à des maladies plus graves tels que le syndrome respiratoire du moyen-orient (mers) et le syndrome respiratoire aigu sévère (sras).',\n",
       " 'un nouveau coronavirus (ncov) est une nouvelle souche de coronavirus qui n’a pas encore été identifiée chez l’homme.',\n",
       " 'les coronavirus sont zoonotiques, c’est-à-dire qu’ils se transmettent de l’animal à l’homme.',\n",
       " 'des enquêtes détaillées ont révélé que le sars-cov se transmettait de la civette à l’homme et le mers-cov du dromadaire à l’homme.',\n",
       " 'plusieurs coronavirus connus qui n’ont pas encore infecté l’homme circulent chez certains animaux.',\n",
       " 'les signes courants d’infection sont les symptômes respiratoires, la fièvre, la toux, l’essoufflement et la dyspnée.',\n",
       " 'dans les cas plus graves, l’infection peut provoquer une pneumonie, un syndrome respiratoire aigu sévère, une insuffisance rénale et même la mort.',\n",
       " 'les recommandations standard pour prévenir la propagation de l’infection comprennent le lavage régulier des mains, le fait de se couvrir la bouche et le nez lorsque l’on tousse et éternue et une cuisson complète de la viande et des œufs.',\n",
       " 'il faut éviter les contacts étroits avec toute personne présentant des symptômes de maladie respiratoire tels que la toux et les éternuements.',\n",
       " 'depuis le début de l’épidémie de coronavirus coronavirus  les décisions prises par le gouvernement s’appuient sur le fondement de faits étayés scientifiquement et sur les connaissances des modalités de propagations du virus, afin de vous fournir les informations et les recommandations les plus précises pour lutter contre l’épidémie.',\n",
       " 'le 14 mars 2020, le premier ministre a décidé, à la suite du passage en stade 3 du plan de lutte contre l’épidémie et jusqu’à nouvel ordre, de fermer tous les lieux recevant du public qui ne sont pas indispensables à la vie du pays.',\n",
       " 'il s’agit notamment des restaurants, cafés, cinémas, discothèques.',\n",
       " 'les lieux de culte resteront ouverts, mais les rassemblements et les cérémonies devront être reportés.',\n",
       " 'il s’agit également de tous les commerces à l’exception des commerces essentiels.',\n",
       " 'resteront notamment ouverts les magasins et marchés alimentaires, les pharmacies, les stations essence, les banques et les bureaux de tabac et de presse.',\n",
       " 'tous les services publics essentiels resteront évidemment ouverts.',\n",
       " 'le président de la république a également annoncé la mise en place d’un service de garde pour les personnels qui sont indispensables à la gestion de la crise sanitaire.',\n",
       " 'pour assurer l’accueil des enfants âgés de moins de 16 ans de ces personnes, lorsqu’elles ne disposent pas d’autre solution de garde à domicile, les personnels relevant du ministère de l’education nationale et ceux relevant des collectivités territoriales (atsem et alsh) seront mobilisés dès le lundi 16 mars 2020. les groupes d’élèves ne devront pas dépasser 8 à 10 élèves par classe.',\n",
       " 'les parents concernés et leurs enfants seront accueillis dès lors qu’ils présenteront la carte professionnelle de santé ou une fiche de paye avec mention de l’établissement employeur.',\n",
       " 'toute piste complémentaire sur des aides/gardes d’enfants à domicile pourra être envisagée localement sous l’égide des préfets (ex.',\n",
       " 'plateformes offre/demande).',\n",
       " 'sont concernés par ce dispositif :    tout personnel travaillant en établissements de santé publics/privés : hôpitaux, cliniques, centres de santé … tout personnel travaillant en établissements médico-sociaux pour personnes âgées et personnes handicapées : maisons de retraite, ehpad… les professionnels de santé et médico-sociaux de ville : médecins, infirmiers, pharmaciens, sages-femmes, aides-soignants, transporteurs sanitaires, biologistes, auxiliaires de vie pour personnes âgées et handicapées… les personnels chargés de la gestion de l’épidémie des agences régionales de santé (ars) des préfectures et ceux affectés à l’équipe nationale de gestion de la crise.',\n",
       " 'assistances maternelles les structures qui accueillent des nombres d’enfant beaucoup plus réduits ne présentent pas les mêmes risques selon les experts médicaux.',\n",
       " 'par exemple, les assistantes maternelles exerçant de manière individuelle peuvent continuer d’exercer.',\n",
       " 'cfa, epide et e2c le ministère du travail a indiqué, dès le mercredi 12 mars au soir, que les cfa suspendront l’accueil en formation des jeunes à partir du lundi 16 mars 2020, et ce jusqu’à nouvel ordre.',\n",
       " 'ce principe s’applique également aux prépas apprentissage.',\n",
       " 'les jeunes en formation devront rejoindre leur entreprise.',\n",
       " 'si celle-ci est en activité partielle, ils en bénéficieront au même titre que les salariés ; leur rémunération sera maintenue.',\n",
       " 'les cfa sont invités à recourir à la formation à distance.',\n",
       " 'les epide et les e2c suspendront également l’accueil en formation des jeunes, et ce jusqu’à nouvel ordre.',\n",
       " 'organismes de formation pour les organismes de formation, le principe est de privilégier le maintien de l’activité et l’accueil des stagiaires dès lors que la situation sanitaire le permet :  adaptation de l’organisation des sessions de formation favorisées.',\n",
       " 'formation à distance facilitée.',\n",
       " 'accès à des possibilités de connexion (par exemple dans des tiers lieux).',\n",
       " 'décalages des sessions possibles.']"
      ]
     },
     "execution_count": 21,
     "metadata": {},
     "output_type": "execute_result"
    }
   ],
   "source": [
    "sent_tokens"
   ]
  },
  {
   "cell_type": "markdown",
   "metadata": {},
   "source": [
    "## matrice TF-IDF"
   ]
  },
  {
   "cell_type": "code",
   "execution_count": null,
   "metadata": {},
   "outputs": [],
   "source": [
    "french_stop_words = get_stop_words('french')\n",
    "TfidfVec = TfidfVectorizer(stop_words = french_stop_words)\n",
    "tfidf = TfidfVec.fit(sent_tokens)\n",
    "phrases_tf = tfidf.transform(sent_tokens)\n"
   ]
  },
  {
   "cell_type": "code",
   "execution_count": null,
   "metadata": {},
   "outputs": [],
   "source": []
  },
  {
   "cell_type": "code",
   "execution_count": null,
   "metadata": {},
   "outputs": [],
   "source": [
    "phrases_tf = tfidf.transform(sent_tokens)"
   ]
  },
  {
   "cell_type": "code",
   "execution_count": null,
   "metadata": {},
   "outputs": [],
   "source": [
    "phrases_tf, tfidf"
   ]
  },
  {
   "cell_type": "markdown",
   "metadata": {},
   "source": [
    "## Phrases génériques"
   ]
  },
  {
   "cell_type": "markdown",
   "metadata": {},
   "source": [
    "### input"
   ]
  },
  {
   "cell_type": "code",
   "execution_count": null,
   "metadata": {},
   "outputs": [],
   "source": [
    "in_bonjour = r\"salut.*|bonjour.*|coucou.*|cc.*|hi.*|hello.*\"\n",
    "in_good_by = r\"au revoir|quit|ciao|hasta la vista|à \\+\""
   ]
  },
  {
   "cell_type": "markdown",
   "metadata": {},
   "source": [
    "### output"
   ]
  },
  {
   "cell_type": "code",
   "execution_count": null,
   "metadata": {},
   "outputs": [],
   "source": [
    "out_bonjour = [\"bonjour\", \"hello\", \"salut\"]\n",
    "out_neutre = [\"ok\"]\n",
    "out_fin = [\"merci pour votre visite\"]\n",
    "out_inconnu = [\"posez une autre question\"]\n",
    "out_super = [\"c'est cool !\", \"parfait\"]"
   ]
  },
  {
   "cell_type": "markdown",
   "metadata": {},
   "source": [
    "## Chatbot"
   ]
  },
  {
   "cell_type": "code",
   "execution_count": null,
   "metadata": {},
   "outputs": [],
   "source": [
    "flag = True\n",
    "print(\"\"\"Bienvenue sur ce bot \\n Écrivez votre question : \\n\n",
    "Dites moi au revoir pour quitter\"\"\")\n",
    "while (flag == True):\n",
    "    text_user = input(\"> \")\n",
    "    text_user = text_user.lower()\n",
    "    if (re.search(q_good_by, text_user)):\n",
    "        print(random.choice(msg_fin))\n",
    "        flag = False\n",
    "    elif (re.fullmatch(q_bonjour,text_user)):\n",
    "        print(random.choice(msg_bot))\n",
    "# question inconnue\n",
    "    else:\n",
    "        print(random.choice(msg_inconnu))"
   ]
  }
 ],
 "metadata": {
  "kernelspec": {
   "display_name": "Python 3",
   "language": "python",
   "name": "python3"
  },
  "language_info": {
   "codemirror_mode": {
    "name": "ipython",
    "version": 3
   },
   "file_extension": ".py",
   "mimetype": "text/x-python",
   "name": "python",
   "nbconvert_exporter": "python",
   "pygments_lexer": "ipython3",
   "version": "3.7.7"
  },
  "toc": {
   "base_numbering": 1,
   "nav_menu": {},
   "number_sections": true,
   "sideBar": true,
   "skip_h1_title": true,
   "title_cell": "Table of Contents",
   "title_sidebar": "Contents",
   "toc_cell": true,
   "toc_position": {
    "height": "calc(100% - 180px)",
    "left": "10px",
    "top": "150px",
    "width": "281.6px"
   },
   "toc_section_display": true,
   "toc_window_display": true
  }
 },
 "nbformat": 4,
 "nbformat_minor": 4
}
